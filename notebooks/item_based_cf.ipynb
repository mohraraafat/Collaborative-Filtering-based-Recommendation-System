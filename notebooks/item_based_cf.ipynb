{
 "cells": [
  {
   "cell_type": "code",
   "execution_count": 8,
   "id": "6fbb96e5",
   "metadata": {},
   "outputs": [],
   "source": [
    "import pandas as pd\n",
    "import os\n",
    "import sys\n",
    "sys.path.append(os.path.abspath(\"..\"))"
   ]
  },
  {
   "cell_type": "code",
   "execution_count": 9,
   "id": "7fcb004a",
   "metadata": {},
   "outputs": [],
   "source": [
    "from src.data_loader import load_data\n",
    "from src.recommender import build_dataset, item_based_cf, get_top_n_recommendations, save_recommendations\n",
    "from src.evaluation import evaluate_and_report"
   ]
  },
  {
   "cell_type": "code",
   "execution_count": null,
   "id": "2a2d376c",
   "metadata": {},
   "outputs": [],
   "source": [
    "ratings, _, _ = load_data(r'C:\\Users\\mohr\\Desktop\\task2305305\\data')\n",
    "ratings.drop_duplicates(subset=['user_id', 'item_id'], keep='last', inplace=True)\n",
    "ratings.dropna(subset=['user_id', 'item_id', 'rating'], inplace=True)\n",
    "ratings['user_id'] = pd.to_numeric(ratings['user_id'], errors='coerce')\n",
    "ratings['item_id'] = pd.to_numeric(ratings['item_id'], errors='coerce')\n",
    "ratings['rating'] = pd.to_numeric(ratings['rating'], errors='coerce')\n",
    "ratings.dropna(subset=['user_id', 'item_id', 'rating'], inplace=True)\n",
    "ratings = ratings[(ratings['rating'] >= 1) & (ratings['rating'] <= 5)]\n"
   ]
  },
  {
   "cell_type": "code",
   "execution_count": 11,
   "id": "1a481b1b",
   "metadata": {},
   "outputs": [],
   "source": [
    "data = build_dataset(ratings)\n",
    "\n"
   ]
  },
  {
   "cell_type": "code",
   "execution_count": 12,
   "id": "8fbac493",
   "metadata": {},
   "outputs": [
    {
     "name": "stdout",
     "output_type": "stream",
     "text": [
      "Computing the cosine similarity matrix...\n",
      "Done computing similarity matrix.\n"
     ]
    }
   ],
   "source": [
    "algo, predictions = item_based_cf(data, sim_name='cosine', k=40)"
   ]
  },
  {
   "cell_type": "code",
   "execution_count": 13,
   "id": "e5ecd58d",
   "metadata": {},
   "outputs": [
    {
     "name": "stdout",
     "output_type": "stream",
     "text": [
      "\n",
      "🔍 Evaluation Metrics:\n",
      "RMSE: 1.0321\n",
      "📌 Average Precision@10: 0.5694\n",
      "📌 Average Recall@10: 0.4464\n",
      "📁 Metrics saved to: results/item_based_evaluation.json\n"
     ]
    },
    {
     "data": {
      "text/plain": [
       "{'RMSE': 1.032075849280745,\n",
       " 'Precision@10': 0.5693762729552759,\n",
       " 'Recall@10': 0.446353577597058}"
      ]
     },
     "execution_count": 13,
     "metadata": {},
     "output_type": "execute_result"
    }
   ],
   "source": [
    "evaluate_and_report(predictions, k=10, save_path=\"results/item_based_evaluation.json\")"
   ]
  },
  {
   "cell_type": "code",
   "execution_count": 16,
   "id": "ec397b7a",
   "metadata": {},
   "outputs": [],
   "source": [
    "top_n = get_top_n_recommendations(predictions, n=10)\n",
    "os.makedirs(\"results\", exist_ok=True)\n",
    "save_recommendations(top_n, \"results/item_based_recommendations.csv\")"
   ]
  }
 ],
 "metadata": {
  "kernelspec": {
   "display_name": "Python (myenv)",
   "language": "python",
   "name": "myenv"
  },
  "language_info": {
   "codemirror_mode": {
    "name": "ipython",
    "version": 3
   },
   "file_extension": ".py",
   "mimetype": "text/x-python",
   "name": "python",
   "nbconvert_exporter": "python",
   "pygments_lexer": "ipython3",
   "version": "3.10.16"
  }
 },
 "nbformat": 4,
 "nbformat_minor": 5
}
